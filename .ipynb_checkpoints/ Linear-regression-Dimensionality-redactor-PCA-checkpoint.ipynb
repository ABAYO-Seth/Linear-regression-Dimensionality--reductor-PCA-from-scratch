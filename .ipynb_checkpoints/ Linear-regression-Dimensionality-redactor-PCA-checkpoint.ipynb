{
 "cells": [
  {
   "cell_type": "code",
   "execution_count": 1,
   "id": "18ca5ab8",
   "metadata": {},
   "outputs": [],
   "source": [
    "import numpy as np\n",
    "import pandas as pd\n",
    "from numpy import linalg as LA\n",
    "\n",
    "import matplotlib.pyplot as plt\n",
    "from sklearn.model_selection import train_test_split\n",
    "plt.style.use('seaborn')"
   ]
  },
  {
   "cell_type": "code",
   "execution_count": 3,
   "id": "b144e0ba",
   "metadata": {},
   "outputs": [],
   "source": [
    "class LinearRegressor():\n",
    "    def __init__(self):\n",
    "        self.coefficients = None\n",
    "\n",
    "    def fit(self, X, y):\n",
    "        \"Computes the coefficients based on the dataset received by the model\"\n",
    "        self.coefficients = np.matmul(np.matmul(LA.inv(np.matmul(X.T, X)), X.T), y)\n",
    "        return self.coefficients\n",
    "\n",
    "    def predict(self, X):\n",
    "        \"Returns a prediction based on the learnt model and using the parameter passed\"\n",
    "        return np.matmul(X, self.coefficients)\n",
    "\n",
    "    def score(self, X, y):\n",
    "        \"Given a know input and output vectors, computes and returns the least square error\"\n",
    "\n",
    "        diff = np.squeeze(self.predict(X) - y)\n",
    "        return np.dot(diff, diff)\n",
    "    \n",
    "    \n",
    "class DimensionalityReductor():\n",
    "    def __init__(self, X):\n",
    "        self.X = X\n",
    "        \n",
    "    def reduce(self, n_dim):\n",
    "        return NotImplemented\n",
    "\n",
    "\n",
    "class PCADimensionalityReductor(DimensionalityReductor):\n",
    "    def __init__(self, X):\n",
    "        super().__init__(X)\n",
    "        self.eig_vectors=None\n",
    "        \n",
    "        # Sorting eigen values\n",
    "        mean = np.mean(self.X, axis=0)\n",
    "        self.centred_matrix = self.X - mean\n",
    "        cov_matrix = (1/(self.centred_matrix.shape[0]))*((np.dot(self.centred_matrix.T,self.centred_matrix)))\n",
    "        eigen_vals, eigen_vecs = LA.eig(cov_matrix)\n",
    "        \n",
    "        indices = np.argsort(eigen_vals)[::-1]\n",
    "        sorted_eigen_vals = eigen_vals[indices]\n",
    "        self.sorted_eigen_vecs = eigen_vecs[:,indices]\n",
    "        \n",
    "    def reduce(self, n_dim):\n",
    "        \"\"\"\n",
    "        Returns a modified dataset with n_dim features computed based on the area of high variance\n",
    "        \"\"\"\n",
    "\n",
    "        eigenvector_subset = self.sorted_eigen_vecs[:,0:n_dim]\n",
    "        X_reduced = np.dot(eigenvector_subset.transpose() , self.centred_matrix.transpose() ).transpose()\n",
    "\n",
    "        return X_reduced"
   ]
  },
  {
   "cell_type": "markdown",
   "id": "fa904304",
   "metadata": {},
   "source": [
    "# The dataset that will be used in this assignment was adapted from the Covid-19 and Character Strengths dataset on Kaggle (https://www.kaggle.com/mathchi/covid19-and-character-strengths)."
   ]
  },
  {
   "cell_type": "markdown",
   "id": "4c447432",
   "metadata": {},
   "source": [
    "# The purpose of this study is to investigate the role of character strengths on psychological distress during the Covid-19 lockdown"
   ]
  },
  {
   "cell_type": "code",
   "execution_count": 4,
   "id": "5ec05e4c",
   "metadata": {},
   "outputs": [
    {
     "name": "stdout",
     "output_type": "stream",
     "text": [
      "Shape of the dateset is: (944, 41)\n"
     ]
    }
   ],
   "source": [
    "# Load the dataset from the DB.xlsx file into the dataset variable below\n",
    "dataset = pd.read_excel(\"DB.xlsx\")\n",
    "\n",
    "#TODO: Retrieve the shape of the dataset\n",
    "shape = dataset.shape\n",
    "print(\"Shape of the dateset is:\", shape)"
   ]
  },
  {
   "cell_type": "code",
   "execution_count": 7,
   "id": "afa83d29",
   "metadata": {},
   "outputs": [],
   "source": [
    "# TODO: Retrieve the features into the X array, and the output to the y array\n",
    "X = dataset[['Appreciation_of_beauty', 'Bravery',\n",
    "'Creativity', 'Curiosity', 'Fairness', 'Forgiveness', 'Gratitude',\n",
    "'Honesty', 'Hope', 'Humilty', 'Humor', 'Judgment', 'Kindness',\n",
    "'Leadership', 'Love', 'Love_of_learning', 'Perseverance', 'Perspective',\n",
    "'Prudence', 'Self_regulation', 'Social_intelligence', 'Spirituality',\n",
    "'Teamwork', 'Zest']]\n",
    "y = dataset[['DASS_21']]\n",
    "\n",
    "# Apply min-max normalization on each of the columns of the X array\n",
    "X =(X-X.min())/(X.max()-X.min())\n",
    "\n",
    "\n",
    "# (Optional) Let's convert our data to NumPy array before continuing\n",
    "X = np.array(X)\n",
    "y = np.array(y)\n",
    "\n",
    "# Declare the objects that we need \n",
    "pca_dr = PCADimensionalityReductor(X)\n",
    "lr = LinearRegressor()\n",
    "\n",
    "# Now we want to see how changing the number of important features can or cannot affect the performance of our models.\n",
    "scores = []\n",
    "k=1\n",
    "while k < 24:\n",
    "    reduced = pca_dr.reduce(k)\n",
    "    X_train, X_test, y_train, y_test = train_test_split(reduced, y, test_size=0.25, random_state=32)\n",
    "    lr.fit(X_train, y_train)\n",
    "    score = lr.score(X_test, y_test)\n",
    "    scores.append(score)\n",
    "    k=k+1"
   ]
  },
  {
   "cell_type": "code",
   "execution_count": null,
   "id": "d7326b41",
   "metadata": {},
   "outputs": [],
   "source": []
  }
 ],
 "metadata": {
  "kernelspec": {
   "display_name": "Python 3",
   "language": "python",
   "name": "python3"
  },
  "language_info": {
   "codemirror_mode": {
    "name": "ipython",
    "version": 3
   },
   "file_extension": ".py",
   "mimetype": "text/x-python",
   "name": "python",
   "nbconvert_exporter": "python",
   "pygments_lexer": "ipython3",
   "version": "3.8.8"
  }
 },
 "nbformat": 4,
 "nbformat_minor": 5
}
